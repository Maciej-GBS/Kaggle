{
 "cells": [
  {
   "cell_type": "markdown",
   "metadata": {
    "colab_type": "text",
    "id": "f4qa-MGI_FkK"
   },
   "source": [
    "# Wprowadzenie do pracy Jupyter notebook\n",
    "\n",
    "**Aby uruchomić kod kliknij we fragment kodu i wciśnij Ctrl+Enter**\n",
    "## Import pakietów\n",
    "Punktem wyjścia do prac będa pakiety numpy, pandas i csv umozliwiajace kolejno: wygodne obliczenia i operacje na wektorach, reprezenacje i wizualizację dużych porcji danych, wczytywanie danych treningowych z formatu CSV.\n",
    "Oprócz tego w przypadku korzystania z Google Colab koniecznym będze import modułów pozwalajacych na upload plików z danymi treningowymi na serwer."
   ]
  },
  {
   "cell_type": "code",
   "execution_count": null,
   "metadata": {},
   "outputs": [],
   "source": []
  },
  {
   "cell_type": "code",
   "execution_count": null,
   "metadata": {
    "colab": {},
    "colab_type": "code",
    "id": "iGPTeSOLz4Zq"
   },
   "outputs": [],
   "source": [
    "import pandas as pd\n",
    "import numpy as np\n",
    "from matplotlib import pyplot as plt\n",
    "import seaborn as sns\n",
    "from scipy import stats"
   ]
  },
  {
   "cell_type": "markdown",
   "metadata": {
    "colab_type": "text",
    "id": "4NYLCSVxDvn7"
   },
   "source": [
    "## Podstawy podstaw Pythona\n",
    "(Pomiń to jeśli wiesz o Pythonie cokolwiek)\n",
    "Python jest jednym z najpopularniejszych (obok R) językiem wykorzystywanym w szeroko rozumianej Data Science.\n",
    "W Pythonie możliwe jest programowanie obiektowe, programowanie strukturalne i programowanie funkcyjne. Typy sprawdzane są dynamicznie, a do zarządzania pamięcią stosuje się garbage collection.\n",
    "\n",
    "Dla osób, które nie miały nigdy nic wspólnego z Pythonem, sugeruję przejrzenie [Tutorialu](https://docs.python.org/3/tutorial/) i innych materiałów dostępnych w sieci."
   ]
  },
  {
   "cell_type": "code",
   "execution_count": null,
   "metadata": {
    "colab": {},
    "colab_type": "code",
    "id": "V0AZSHvuEqvt"
   },
   "outputs": [],
   "source": [
    "# deklaracja zmiennych -- dynamiczne typowanie\n",
    "x=12\n",
    "y='tekst'\n",
    "\n",
    "# Python ma silne typowanie --  przy wypisywaniu zmiennych numerycznych i \n",
    "# konkatenacji ze stringiem, konieczna jest konwersja explicite do string\n",
    "print('To są moje zmienne: '+str(x)+' '+y)\n",
    "\n",
    "# Listy zapisuje się w notacji podobnej do Prologa, Matlaba, Octava\n",
    "lista = [1,2,3,4.5]\n",
    "print('to lista '+str(lista))\n",
    "\n",
    "# Mimo, że Python jest językiem (również) obiektowym, to wiele funkcji \n",
    "# uzywanych jest jak globalne\n",
    "\n",
    "dl = len(lista)\n",
    "print('Długośćlisty to: '+str(dl))\n",
    "\n",
    "# Pętle i instrukcje warunkowe (wcięcia są ważne!)\n",
    "for element in lista:\n",
    "  print(element)\n",
    "\n",
    "if x < 10: \n",
    "  print('Mniejsze od 10')\n",
    "else:\n",
    "  print('Może 10, może wiecej')\n"
   ]
  },
  {
   "cell_type": "code",
   "execution_count": null,
   "metadata": {
    "colab": {},
    "colab_type": "code",
    "id": "5wT-njqnOK5G"
   },
   "outputs": [],
   "source": [
    "# Iterowanie po elementach listy a wydajność\n",
    "duza_lista = np.random.randint(2, size=10000000)\n",
    "\n",
    "# Policz ile jest 1-nek\n",
    "import time\n",
    "\n",
    "start = time.time()\n",
    "print(len(duza_lista[duza_lista==1]))\n",
    "stop = time.time()\n",
    "print('Czas wykonania: ' + str(stop-start))\n",
    "\n",
    "start = time.time()\n",
    "print(sum([1 for e in duza_lista if e == 1]))\n",
    "s = 0\n",
    "stop = time.time()\n",
    "print('Czas wykonania: ' + str(stop-start))\n",
    " \n",
    "  \n",
    "start = time.time()\n",
    "for e in duza_lista: \n",
    "  if e == 1: s+=1\n",
    "print(s)\n",
    "stop = time.time()\n",
    "print('Czas wykonania: ' + str(stop-start))\n"
   ]
  },
  {
   "cell_type": "code",
   "execution_count": null,
   "metadata": {
    "colab": {},
    "colab_type": "code",
    "id": "wDg7ErmEONxP"
   },
   "outputs": [],
   "source": [
    "# Definiowanie funkcji -- nigdy nie staraj się definiowac funkcji, które już są.\n",
    "def srednia(lista):\n",
    "  return sum(lista)/len(lista)\n",
    "\n",
    "start = time.time()\n",
    "print('Srednia z listy to '+str(srednia(duza_lista)))\n",
    "stop = time.time()\n",
    "print('Czas wykonania: ' + str(stop-start))\n",
    "\n",
    "start = time.time()\n",
    "print('Srednia z listy to '+str(np.mean(duza_lista)))\n",
    "stop = time.time()\n",
    "print('Czas wykonania: ' + str(stop-start))"
   ]
  },
  {
   "cell_type": "code",
   "execution_count": null,
   "metadata": {
    "colab": {},
    "colab_type": "code",
    "id": "w7ytAhd1Y2sZ"
   },
   "outputs": [],
   "source": [
    "# Słowniki to tablice asocjacyjne\n",
    "dict = {'Name': 'Zara', 'Age': 21, 'Class': 'Machine Learning'}\n",
    "dict['Age'] = 22; # update existing entry\n",
    "dict['School'] = \"AGH\"; # Add new entry\n",
    "\n",
    "print(\"dict['Age']: \", dict['Age'])\n",
    "print(\"dict['School']: \", dict['School'])"
   ]
  },
  {
   "cell_type": "markdown",
   "metadata": {
    "colab_type": "text",
    "id": "CVssU3aK_dEt"
   },
   "source": [
    "## Wczytywanie plików\n",
    "Poniżej przyklad wczytania pliku z danymi treningowymi, załadowania go do DataFrame i wyświetlenia.\n",
    "Plik, który należy załadować znajdue się tutaj [House sales](https://home.agh.edu.pl/~sbobek/kc_house_data.csv)"
   ]
  },
  {
   "cell_type": "code",
   "execution_count": null,
   "metadata": {
    "colab": {
     "base_uri": "https://localhost:8080/",
     "height": 253
    },
    "colab_type": "code",
    "id": "kHBYXRXBFmTo",
    "outputId": "8bbcaa34-50b6-4a3d-f44d-1846fac0007d"
   },
   "outputs": [],
   "source": [
    "df = pd.read_csv('https://home.agh.edu.pl/~sbobek/kc_house_data.csv')\n",
    "df.head()"
   ]
  },
  {
   "cell_type": "markdown",
   "metadata": {
    "colab_type": "text",
    "id": "p9Wa5BGiQJBA"
   },
   "source": [
    "## Manipulowanie DataFrame\n",
    "Wybieranie danych z DF odbywa sie intuicyjnie, poprzez podanie nazwy kolumny, lub listy kolumn w **nawiasach kwadratowych**"
   ]
  },
  {
   "cell_type": "code",
   "execution_count": null,
   "metadata": {
    "colab": {},
    "colab_type": "code",
    "id": "ZK2Ax2DJ0Ajb"
   },
   "outputs": [],
   "source": [
    "# wybierz tylko jedną kolumnę\n",
    "bedrooms = df['sqft_living']\n",
    "\n",
    "# wybierz dwie kolumny\n",
    "bedprice = df[['sqft_living', 'price']]\n",
    "\n"
   ]
  },
  {
   "cell_type": "code",
   "execution_count": null,
   "metadata": {
    "colab": {},
    "colab_type": "code",
    "id": "v_NMCxTCBGT-"
   },
   "outputs": [],
   "source": [
    "# Indeksy -- każdy wiersz jest indeksowany domyślnie integerem. \n",
    "bedprice.index\n",
    "print('Here is what we have at the index 1210: ')\n",
    "print(bedprice.loc[1210])\n",
    "print(bedprice.iloc[1210])\n"
   ]
  },
  {
   "cell_type": "code",
   "execution_count": null,
   "metadata": {
    "colab": {},
    "colab_type": "code",
    "id": "32xwTNJn1XCt"
   },
   "outputs": [],
   "source": [
    "# Zmiana indeksowania może generować nieoczekiwane wyniki podczas wybierania danych\n",
    "\n",
    "bedprice.set_index('sqft_living', inplace=True)\n",
    "print('Here is what we have at the index 1210: ')\n",
    "print(bedprice.loc[1210])\n",
    "print(bedprice.iloc[1210])\n"
   ]
  },
  {
   "cell_type": "code",
   "execution_count": null,
   "metadata": {
    "colab": {},
    "colab_type": "code",
    "id": "eGA_fesQAmUH"
   },
   "outputs": [],
   "source": [
    "# Tworzymy nową dataframe z nowymi danymi z wykorzystaniem Series\n",
    "city_names = pd.Series(['San Francisco', 'San Jose', 'Sacramento'])\n",
    "population = pd.Series([852469, 1015785, 485199])\n",
    "\n",
    "df2 = pd.DataFrame({ 'City name': city_names, 'Population': population })\n",
    "df2"
   ]
  },
  {
   "cell_type": "code",
   "execution_count": null,
   "metadata": {
    "colab": {},
    "colab_type": "code",
    "id": "COnwOX4WA3k-"
   },
   "outputs": [],
   "source": [
    "# Worzymy nową z wykorzystaniem słowników\n",
    "df2 = pd.DataFrame({'x': ['Pierwszy','Drugi'], 'y':[222,333]})\n",
    "df2 "
   ]
  },
  {
   "cell_type": "code",
   "execution_count": null,
   "metadata": {
    "colab": {},
    "colab_type": "code",
    "id": "a4MggNA7AyDl"
   },
   "outputs": [],
   "source": [
    "#Modyfikujemy oryginalną mimo, że możemy podejrzewać, że tak się nie stanie\n",
    "df2 = pd.DataFrame({'x': ['Pierwszy','Drugi'], 'y':[222,333]})\n",
    "df2_sub = df2[0:1]\n",
    "df2_sub.x = 'Trzeci'\n",
    "print(df2)\n",
    "print(df2_sub)\n"
   ]
  },
  {
   "cell_type": "code",
   "execution_count": null,
   "metadata": {
    "colab": {},
    "colab_type": "code",
    "id": "ZKXftKwoEpbv"
   },
   "outputs": [],
   "source": [
    "#Jeśil chcemy pracować na kopii, to explicite:\n",
    "df2 = pd.DataFrame({'x': ['Pierwszy','Drugi'], 'y':[222,333]})\n",
    "df2_sub = df2[0:1].copy()\n",
    "df2_sub.x = 'Trzeci'\n",
    "print(df2)\n",
    "print(df2_sub)\n"
   ]
  },
  {
   "cell_type": "code",
   "execution_count": null,
   "metadata": {
    "colab": {},
    "colab_type": "code",
    "id": "fo4FIC3_ErCh"
   },
   "outputs": [],
   "source": [
    "\n",
    "#Yikes... Nie wiadomo co się stanie -- raz wartość w df zostanie zmieniona, raz nie\n",
    "df2 = pd.DataFrame({'x': ['Pierwszy','Drugi'], 'y':[222,333]})\n",
    "df2_sub = df2[['x','y']]\n",
    "df2_sub['x'][0] = 'Czwarty'\n",
    "print(df2)\n",
    "print(df2_sub)\n",
    "\n"
   ]
  },
  {
   "cell_type": "code",
   "execution_count": null,
   "metadata": {
    "colab": {},
    "colab_type": "code",
    "id": "X6O-5BAh3D90"
   },
   "outputs": [],
   "source": [
    "# Dodanie nowej kolumny do DF, z domyślną wartością\n",
    "df2 = pd.DataFrame({'x': ['Pierwszy','Drugi'], 'y':[222,333]})\n",
    "df2['Z'] = -1\n",
    "df2.loc[:,'Kolejna'] = -2\n",
    "df2"
   ]
  },
  {
   "cell_type": "code",
   "execution_count": null,
   "metadata": {
    "colab": {},
    "colab_type": "code",
    "id": "7bEw2bn5EsUw"
   },
   "outputs": [],
   "source": [
    "#Zmiana wartości poprawnie to uzywamy loc.\n",
    "#Unikamy tzw. chained indexing [a][b][c] na rzecz loc[a,b,c]:\n",
    "df2 = pd.DataFrame({'x': ['Pierwszy','Drugi'], 'y':[222,333]})\n",
    "df2_sub = df2[['x','y']]\n",
    "df2_sub.loc[0,'x'] = 'Piąty'\n",
    "print(df2)\n",
    "print(df2_sub)"
   ]
  },
  {
   "cell_type": "code",
   "execution_count": null,
   "metadata": {
    "colab": {},
    "colab_type": "code",
    "id": "NZhwMeBVTH8B"
   },
   "outputs": [],
   "source": [
    "# Iterowanie po wierszach DF różni sie trochę od iterowania po listach\n",
    "bedprice = df[['sqft_living', 'price']]\n",
    "# nie o to nam chodziło (nagłówek tez jest wierszem)notebook\n",
    "for row in bedprice:\n",
    "  print('Powierzchnia: '+str(row[0]), 'cena: '+str(row[1]))\n",
    "\n",
    "# nieźle i wygodnie\n",
    "for idx, row in bedprice.iterrows():\n",
    "  print('Powierzchnia: '+str(row['sqft_living']), 'cena: '+str(row['price']))\n",
    "\n",
    "# czasem o niebo szybciej niż powyższe\n",
    "for row in bedprice.itertuples(index=False):\n",
    "  print('Powierzchnia: '+str(getattr(row,'sqft_living')), 'cena: '+str(getattr(row,'price')))\n",
    "  "
   ]
  },
  {
   "cell_type": "markdown",
   "metadata": {
    "colab_type": "text",
    "id": "W6zypSNRWJbI"
   },
   "source": [
    "## Operacje na wektorach\n",
    "Do operacji na wektorach można używac wymiennie pakietu numpy, albo Pandas."
   ]
  },
  {
   "cell_type": "code",
   "execution_count": null,
   "metadata": {
    "colab": {},
    "colab_type": "code",
    "id": "x79GhM6MVdf6"
   },
   "outputs": [],
   "source": [
    "# iloczyn skalarny kolumny 'price' z użyciem Pandas\n",
    "res = df['price'].dot(df['price'])\n",
    "print(res)\n",
    "\n",
    "# iloczyn skalarny kolumny 'price' z użyciem numpy\n",
    "# values zwraca surową tablicę numpy\n",
    "numpy_vals = df['price'].values\n",
    "res = numpy_vals.dot(numpy_vals)\n",
    "print(res)\n"
   ]
  },
  {
   "cell_type": "code",
   "execution_count": null,
   "metadata": {
    "colab": {},
    "colab_type": "code",
    "id": "DEus2LpSaAer"
   },
   "outputs": [],
   "source": [
    "# Z numpy możemy wygodnie manipulować danymi w formacie Matlabowym\n",
    "matrix = df.as_matrix(columns=['sqft_living','bedrooms','bathrooms','price'])\n",
    "print(matrix)\n",
    "\n",
    "# tylko dwie pierwsze kolumny\n",
    "print('Kolumny')\n",
    "print(matrix[:,0:2])\n",
    "\n",
    "# tylko dwa pierwse wiersze\n",
    "print('Wiersze')\n",
    "print(matrix[0:2,:])"
   ]
  },
  {
   "cell_type": "markdown",
   "metadata": {
    "colab_type": "text",
    "id": "aj-QEGhSZytb"
   },
   "source": [
    "# Zadania\n",
    "## Wczytaj plik z danymi, który znajduje się tutaj: [House prices]('https://home.agh.edu.pl/~sbobek/kc_house_data_missing.csv')\n",
    "\n",
    "**Zwróć uwagę, że niektórych danych brakuje** Dane takie są zastąpione znakiem *?*.\n",
    "Ile jest takich danych w zbiorze? Co z nimi zrobić?\n"
   ]
  },
  {
   "cell_type": "code",
   "execution_count": null,
   "metadata": {},
   "outputs": [],
   "source": [
    "df = pd.read_csv('kc_house_data_moreal_full.csv', sep=';')\n",
    "df.head()"
   ]
  },
  {
   "cell_type": "code",
   "execution_count": null,
   "metadata": {
    "colab": {
     "base_uri": "https://localhost:8080/",
     "height": 35
    },
    "colab_type": "code",
    "id": "oQU4_2zh8Tm5",
    "outputId": "a9fcb25b-772e-426b-92b7-dad43bd27fff"
   },
   "outputs": [],
   "source": [
    "df.columns"
   ]
  },
  {
   "cell_type": "markdown",
   "metadata": {
    "colab_type": "text",
    "id": "3Djza4uDfnQ-"
   },
   "source": [
    "## Wyświetl 10 pierwszych wierszy pliku"
   ]
  },
  {
   "cell_type": "code",
   "execution_count": null,
   "metadata": {},
   "outputs": [],
   "source": [
    "df.head(n=10)"
   ]
  },
  {
   "cell_type": "markdown",
   "metadata": {
    "colab_type": "text",
    "id": "fwlgLCyBz6u0"
   },
   "source": [
    "## Ile jest elementów (wierszy) w zbiorze?"
   ]
  },
  {
   "cell_type": "code",
   "execution_count": null,
   "metadata": {},
   "outputs": [],
   "source": [
    "len(df)"
   ]
  },
  {
   "cell_type": "markdown",
   "metadata": {
    "colab_type": "text",
    "id": "6pcLRR7V6jXp"
   },
   "source": [
    "## Ile jest kolumn w zbiorze?"
   ]
  },
  {
   "cell_type": "code",
   "execution_count": null,
   "metadata": {},
   "outputs": [],
   "source": [
    "len(df.columns)"
   ]
  },
  {
   "cell_type": "markdown",
   "metadata": {},
   "source": [
    "## Jak wygląda statystyka zbioru"
   ]
  },
  {
   "cell_type": "code",
   "execution_count": null,
   "metadata": {},
   "outputs": [],
   "source": [
    "df.describe(include='all')"
   ]
  },
  {
   "cell_type": "markdown",
   "metadata": {},
   "source": [
    "## Brakujące dane"
   ]
  },
  {
   "cell_type": "code",
   "execution_count": null,
   "metadata": {},
   "outputs": [],
   "source": [
    "#Co to znaczy że danej nie ma\n",
    "df.sqft_living.value_counts()\n",
    "dfna = df.replace('?',np.nan)"
   ]
  },
  {
   "cell_type": "code",
   "execution_count": null,
   "metadata": {},
   "outputs": [],
   "source": [
    "#Ile jest wartości brakujacych\n",
    "dfna.isnull().sum().to_frame(name='count').sort_values(by='count', ascending=False)['count'].plot(kind='bar', figsize=(20,10))"
   ]
  },
  {
   "cell_type": "code",
   "execution_count": null,
   "metadata": {},
   "outputs": [],
   "source": [
    "#Co zrobić z wartościami brakującymi (heatmap do wizualizacji)\n",
    "plt.figure(figsize=(20, 10))\n",
    "sns.heatmap(dfna.isnull())"
   ]
  },
  {
   "cell_type": "code",
   "execution_count": null,
   "metadata": {},
   "outputs": [],
   "source": [
    "# wywalmy wszystkie wiersze, które mają więcej jak 10 brakujących\n",
    "dfnadrop = dfna.dropna(axis=0,thresh=20)"
   ]
  },
  {
   "cell_type": "code",
   "execution_count": null,
   "metadata": {},
   "outputs": [],
   "source": [
    "plt.figure(figsize=(20, 10))\n",
    "sns.heatmap(dfnadrop.isnull())"
   ]
  },
  {
   "cell_type": "code",
   "execution_count": null,
   "metadata": {},
   "outputs": [],
   "source": [
    "#Ile jest wartości brakujacych\n",
    "missing = dfnadrop.isnull().sum().to_frame(name='count').sort_values(by='count', ascending=False)#['count'].plot(kind='bar', figsize=(20,10))\n",
    "missing = missing[missing['count']>0]\n",
    "(missing['count']/len(dfnadrop)*100).plot(kind='bar', figsize=(20,10))"
   ]
  },
  {
   "cell_type": "markdown",
   "metadata": {},
   "source": [
    "## Mamy do uzupełnienia kilka danych\n",
    "  * sqft_basement - temting to just drop the column, but...\n",
    "  * condition - tempting to average the condition, but..\n",
    "  * school_1mi - should we average this\n",
    "  * sqft_lot - maybe there is a difference in different areas defined by zip-codes\n",
    "  * electricity - really?\n",
    "  * showers - is it somehow related to bathrooms?\n",
    "  * basement - isn't it somehow related to sqft_basement\n",
    "  * sqft_lot15 - implies renovations, and maybe it is related to sqtf_living"
   ]
  },
  {
   "cell_type": "code",
   "execution_count": null,
   "metadata": {},
   "outputs": [],
   "source": [
    "for col in dfnadrop.columns:\n",
    "    if col != 'date':\n",
    "        dfnadrop[col] = dfnadrop[col].astype('f8')"
   ]
  },
  {
   "cell_type": "markdown",
   "metadata": {},
   "source": [
    "## Intuicja podpowiada, że zalezność między zmiennymi niezależnymi istnieje :)"
   ]
  },
  {
   "cell_type": "code",
   "execution_count": null,
   "metadata": {},
   "outputs": [],
   "source": [
    "corr = dfnadrop.corr(method='pearson')\n",
    "plt.subplots(figsize=(20,9))\n",
    "sns.heatmap(corr, annot=True)"
   ]
  },
  {
   "cell_type": "markdown",
   "metadata": {},
   "source": [
    "## Electricity"
   ]
  },
  {
   "cell_type": "code",
   "execution_count": null,
   "metadata": {},
   "outputs": [],
   "source": [
    "dfnadrop['electricity'].value_counts()"
   ]
  },
  {
   "cell_type": "code",
   "execution_count": null,
   "metadata": {},
   "outputs": [],
   "source": [
    "dfnadrop['electricity'].hist()"
   ]
  },
  {
   "cell_type": "code",
   "execution_count": null,
   "metadata": {},
   "outputs": [],
   "source": [
    "to_drop = ['electricity']"
   ]
  },
  {
   "cell_type": "markdown",
   "metadata": {},
   "source": [
    "## Schools"
   ]
  },
  {
   "cell_type": "code",
   "execution_count": null,
   "metadata": {},
   "outputs": [],
   "source": [
    "dfnadrop['school_1mi'].value_counts()"
   ]
  },
  {
   "cell_type": "code",
   "execution_count": null,
   "metadata": {},
   "outputs": [],
   "source": [
    "dfnadrop['school_1mi'].hist()"
   ]
  },
  {
   "cell_type": "code",
   "execution_count": null,
   "metadata": {},
   "outputs": [],
   "source": [
    "to_drop.append('school_1mi')"
   ]
  },
  {
   "cell_type": "markdown",
   "metadata": {},
   "source": [
    "## Basements\n",
    "Mamy dwie zmienne: basement i sqft_basement, które z wykresu korelacji wydają się być kompletnie niezkorelowane, a intuicja podpowiada, że jednak powinny być.\n",
    "Domyślnie corr daje spearman correlation, a my mamy zmienną binarną "
   ]
  },
  {
   "cell_type": "code",
   "execution_count": null,
   "metadata": {},
   "outputs": [],
   "source": [
    "dfnadrop[['basement','sqft_basement']]\n",
    "dfnadrop['sqft_basement'] = dfnadrop['sqft_basement'].fillna(0)"
   ]
  },
  {
   "cell_type": "code",
   "execution_count": null,
   "metadata": {},
   "outputs": [],
   "source": [
    "basempty = dfnadrop[dfnadrop['basement'].isna()][['sqft_basement','basement']]\n",
    "dfnadrop.loc[dfnadrop['basement'].isna(),'basement'] = (basempty['sqft_basement'] > 0).astype('f8')"
   ]
  },
  {
   "cell_type": "code",
   "execution_count": null,
   "metadata": {},
   "outputs": [],
   "source": [
    "dfnadrop.loc[basempty.index][['sqft_basement','basement']]"
   ]
  },
  {
   "cell_type": "markdown",
   "metadata": {},
   "source": [
    "## Schowers"
   ]
  },
  {
   "cell_type": "code",
   "execution_count": null,
   "metadata": {},
   "outputs": [],
   "source": [
    "dfnadrop[['showers','bathrooms']].corr()\n",
    "to_drop.append('showers')"
   ]
  },
  {
   "cell_type": "markdown",
   "metadata": {},
   "source": [
    "## Condition"
   ]
  },
  {
   "cell_type": "code",
   "execution_count": null,
   "metadata": {},
   "outputs": [],
   "source": [
    "dfnadrop['condition'].value_counts()"
   ]
  },
  {
   "cell_type": "code",
   "execution_count": null,
   "metadata": {},
   "outputs": [],
   "source": [
    "dfnadrop['condition'].hist()"
   ]
  },
  {
   "cell_type": "code",
   "execution_count": null,
   "metadata": {},
   "outputs": [],
   "source": [
    "var = 'condition'\n",
    "dfnadrop[var].dropna().hist(bins=100,figsize=(12,9))"
   ]
  },
  {
   "cell_type": "code",
   "execution_count": null,
   "metadata": {},
   "outputs": [],
   "source": [
    "dfnadrop[var].dropna().plot(kind='box', showmeans=True, figsize=(12,9))"
   ]
  },
  {
   "cell_type": "code",
   "execution_count": null,
   "metadata": {},
   "outputs": [],
   "source": [
    "def plot_rel_to(df, rel, what, n=10):\n",
    "    mostzip = df.groupby(rel)[what].median().to_frame(name='sqlmean').sort_values(by='sqlmean', ascending=False).iloc[:n]\n",
    "    mostzip.plot(kind='bar',figsize=(10,6))\n",
    "    fig, ax = plt.subplots(figsize=(16,10))\n",
    "    plt.suptitle('')\n",
    "    df[df[rel].isin(list(mostzip.index))].boxplot(by=rel, column=[what], ax=ax,showmeans=True)"
   ]
  },
  {
   "cell_type": "code",
   "execution_count": null,
   "metadata": {},
   "outputs": [],
   "source": [
    "plot_rel_to(dfnadrop, 'zipcode','condition')"
   ]
  },
  {
   "cell_type": "code",
   "execution_count": null,
   "metadata": {},
   "outputs": [],
   "source": [
    "dfnadrop.loc[:,'condition'] = dfnadrop['condition'].fillna(dfnadrop.condition.median())"
   ]
  },
  {
   "cell_type": "code",
   "execution_count": null,
   "metadata": {},
   "outputs": [],
   "source": [
    "from sklearn.impute import SimpleImputer\n",
    "imp = SimpleImputer(missing_values=np.nan, strategy='most_frequent')\n",
    "imp.fit(dfnadrop[['condition']])\n",
    "dfnadrop.loc[:,'condition'] =imp.transform(dfnadrop[['condition']])"
   ]
  },
  {
   "cell_type": "markdown",
   "metadata": {},
   "source": [
    "## Lot size"
   ]
  },
  {
   "cell_type": "code",
   "execution_count": null,
   "metadata": {},
   "outputs": [],
   "source": [
    "plot_rel_to(dfnadrop, 'zipcode','sqft_lot15')"
   ]
  },
  {
   "cell_type": "code",
   "execution_count": null,
   "metadata": {},
   "outputs": [],
   "source": [
    "def fill_group(series, column):\n",
    "    series.loc[:,column] = series.loc[:,column].fillna(series[column].median())\n",
    "    return series"
   ]
  },
  {
   "cell_type": "code",
   "execution_count": null,
   "metadata": {},
   "outputs": [],
   "source": [
    "dfnadrop=dfnadrop.groupby('zipcode').apply(fill_group, column='sqft_lot')\n",
    "dfnadrop=dfnadrop.groupby('zipcode').apply(fill_group, column='sqft_lot15')"
   ]
  },
  {
   "cell_type": "markdown",
   "metadata": {},
   "source": [
    "## sqft_lot15 implies renovations, and maybe it is related to sqtf_living"
   ]
  },
  {
   "cell_type": "code",
   "execution_count": null,
   "metadata": {},
   "outputs": [],
   "source": [
    "dfnadropx=dfnadrop.dropna(subset=['sqft_lot15'])\n",
    "dfnadropx[dfnadropx['sqft_lot15']!=dfnadropx['sqft_lot']][['sqft_lot15','sqft_lot','yr_renovated','sqft_living','sqft_living15']].head()"
   ]
  },
  {
   "cell_type": "code",
   "execution_count": null,
   "metadata": {},
   "outputs": [],
   "source": [
    "dfnadropx['lot_diff'] = (dfnadropx['sqft_lot15']-dfnadropx['sqft_lot'])\n",
    "dfnadropx['living_diff'] = (dfnadropx['sqft_living15']-dfnadropx['sqft_living'])\n",
    "\n",
    "\n",
    "lot_corr = dfnadropx[['lot_diff','living_diff']].corr(method='spearman')\n",
    "sns.heatmap(lot_corr, annot=True)"
   ]
  },
  {
   "cell_type": "markdown",
   "metadata": {},
   "source": [
    "## Kończymy ze zbiorem danych"
   ]
  },
  {
   "cell_type": "code",
   "execution_count": null,
   "metadata": {},
   "outputs": [],
   "source": [
    "to_drop.append('id')\n",
    "dff =dfnadrop.drop(columns=to_drop)"
   ]
  },
  {
   "cell_type": "code",
   "execution_count": null,
   "metadata": {},
   "outputs": [],
   "source": [
    "sns.heatmap(dff.isna().sum().to_frame(name='nulls'))"
   ]
  },
  {
   "cell_type": "code",
   "execution_count": null,
   "metadata": {},
   "outputs": [],
   "source": [
    "corr = dff.corr(method='pearson')\n",
    "plt.subplots(figsize=(20,9))\n",
    "sns.heatmap(corr, annot=True)"
   ]
  },
  {
   "cell_type": "markdown",
   "metadata": {},
   "source": [
    "## Więcej analizy\n",
    "Kiedy wreszcie nie ma pustych miejsc\n",
    "* Scatter\n",
    "* Box dla dobrze rokujacej zmeinnej\n",
    "* Bar dla per condition (min/max/median)\n",
    "* Line dla daty per zipcode\n",
    "* Histogram dla zmiennej losowej (zobaczmy zipcode)\n",
    "* korelacje i pairploty, scatter_matrix\n",
    "* jaks przyklad z plotly (np. lat lon i prices)\n"
   ]
  },
  {
   "cell_type": "markdown",
   "metadata": {},
   "source": [
    "## Scatterplot"
   ]
  },
  {
   "cell_type": "code",
   "execution_count": null,
   "metadata": {},
   "outputs": [],
   "source": [
    "#scatterplot - gdy mamy wiele wartosci\n",
    "dff[['sqft_living','price','condition']].plot(kind='scatter',x='sqft_living',y='price', c='condition',colormap='viridis', figsize=(12,9))\n",
    "plt.title('Wykres 1')\n",
    "plt.xlabel('Rozmiar domu w $m^2$')\n",
    "plt.ylabel('Cena')"
   ]
  },
  {
   "cell_type": "markdown",
   "metadata": {},
   "source": [
    "### CHALLENGE: WTF?"
   ]
  },
  {
   "cell_type": "code",
   "execution_count": null,
   "metadata": {},
   "outputs": [],
   "source": []
  },
  {
   "cell_type": "markdown",
   "metadata": {},
   "source": [
    "## Probability plot"
   ]
  },
  {
   "cell_type": "code",
   "execution_count": null,
   "metadata": {},
   "outputs": [],
   "source": [
    "plt.subplots(figsize=(12,9))\n",
    "sns.distplot(dff['price'], fit=stats.norm)\n",
    "\n",
    "\n",
    "(mu, sigma) = stats.norm.fit(dff['price'])\n",
    "\n",
    "\n",
    "plt.legend(['Normal dist. ($\\mu=$ {:.2f} and $\\sigma=$ {:.2f} )'.format(mu, sigma)])\n",
    "plt.ylabel('Frequency')\n",
    "\n",
    "\n",
    "fig = plt.figure(figsize=(12,9))\n",
    "stats.probplot(dff['price'], plot=plt)\n",
    "plt.show()"
   ]
  },
  {
   "cell_type": "markdown",
   "metadata": {},
   "source": [
    "## Rozwiązanie combo"
   ]
  },
  {
   "cell_type": "code",
   "execution_count": null,
   "metadata": {},
   "outputs": [],
   "source": [
    "corr = dff.corr(method='pearson')\n",
    "corr['price'].sort_values(ascending=False)\n",
    "top = corr.index[:5]"
   ]
  },
  {
   "cell_type": "code",
   "execution_count": null,
   "metadata": {},
   "outputs": [],
   "source": [
    "sns.set(style='ticks')\n",
    "sns.pairplot(dff[top],  diag_kind='kde', height=10, aspect=0.6)"
   ]
  },
  {
   "cell_type": "code",
   "execution_count": null,
   "metadata": {},
   "outputs": [],
   "source": [
    "pd.plotting.scatter_matrix(dff[top], alpha=0.2, figsize=(20,10))"
   ]
  },
  {
   "cell_type": "markdown",
   "metadata": {},
   "source": [
    "## Boxplot"
   ]
  },
  {
   "cell_type": "code",
   "execution_count": null,
   "metadata": {},
   "outputs": [],
   "source": [
    "corr = dff.corr(method='pearson')\n",
    "corr['price'].sort_values(ascending=False)"
   ]
  },
  {
   "cell_type": "code",
   "execution_count": null,
   "metadata": {},
   "outputs": [],
   "source": [
    "plt.figure(figsize=(18, 8))\n",
    "sns.boxplot(x=dff.grade, y=dff.price)\n",
    "#dff.boxplot('price','grade')"
   ]
  },
  {
   "cell_type": "markdown",
   "metadata": {},
   "source": [
    "## Lineplot"
   ]
  },
  {
   "cell_type": "code",
   "execution_count": null,
   "metadata": {},
   "outputs": [],
   "source": [
    "dff['date'] = pd.to_datetime(dff['date'].str.replace('T000000',''), format=\"%Y%m%d\")"
   ]
  },
  {
   "cell_type": "code",
   "execution_count": null,
   "metadata": {},
   "outputs": [],
   "source": [
    "dff.groupby('date')['price'].count().plot(figsize=(12,9))"
   ]
  },
  {
   "cell_type": "code",
   "execution_count": null,
   "metadata": {},
   "outputs": [],
   "source": [
    "dff.groupby('date')['price'].mean().plot(figsize=(12,9))"
   ]
  },
  {
   "cell_type": "code",
   "execution_count": null,
   "metadata": {},
   "outputs": [],
   "source": [
    "res = dff.groupby(['date','zipcode'])['price'].mean().to_frame(name='price')"
   ]
  },
  {
   "cell_type": "code",
   "execution_count": null,
   "metadata": {},
   "outputs": [],
   "source": [
    "zips = list(res.index.levels[1][:10])\n",
    "zips"
   ]
  },
  {
   "cell_type": "code",
   "execution_count": null,
   "metadata": {},
   "outputs": [],
   "source": [
    "resf = res[res.index.get_level_values('zipcode').isin(zips)]\n",
    "resf.groupby('zipcode')['price'].plot(legend=True, figsize=(12,9))"
   ]
  },
  {
   "cell_type": "markdown",
   "metadata": {
    "colab": {},
    "colab_type": "code",
    "id": "kDKsVxC86nb6"
   },
   "source": [
    "## Pyplot dla bardziej zaawansowanych grafik"
   ]
  },
  {
   "cell_type": "code",
   "execution_count": null,
   "metadata": {
    "colab": {},
    "colab_type": "code",
    "id": "FM4ow_19_gjz"
   },
   "outputs": [],
   "source": [
    "!pip install plotly --upgrade"
   ]
  },
  {
   "cell_type": "code",
   "execution_count": null,
   "metadata": {},
   "outputs": [],
   "source": [
    "#scatterplot - gdy mamy wiele wartosci\n",
    "dff[['sqft_living','price','condition']].plot(kind='scatter',x='sqft_living',y='price', c='condition',colormap='viridis', figsize=(12,9))\n",
    "plt.title('Wykres 1')\n",
    "plt.xlabel('Rozmiar domu w $m^2$')\n",
    "plt.ylabel('Cena')"
   ]
  },
  {
   "cell_type": "code",
   "execution_count": null,
   "metadata": {},
   "outputs": [],
   "source": [
    "import plotly.plotly as py\n",
    "import plotly.graph_objs as go\n",
    "from plotly.offline import download_plotlyjs, init_notebook_mode, plot, iplot\n",
    "init_notebook_mode(connected=True)\n",
    "\n",
    "trace = go.Scatter(\n",
    "    x = dff['sqft_living'],\n",
    "    y = dff['price'],\n",
    "    mode = 'markers'\n",
    ")\n",
    "\n",
    "data = [trace]\n",
    "\n",
    "\n",
    "\n",
    "# Plot and embed in ipython notebook!\n",
    "fig = go.Figure(data=data)\n",
    "iplot(fig)"
   ]
  },
  {
   "cell_type": "code",
   "execution_count": null,
   "metadata": {},
   "outputs": [],
   "source": [
    "import plotly.plotly as py\n",
    "import plotly.graph_objs as go\n",
    "from plotly.offline import download_plotlyjs, init_notebook_mode, plot, iplot\n",
    "init_notebook_mode(connected=True)\n",
    "\n",
    "\n",
    "# Create a trace\n",
    "traces = []\n",
    "c= ['hsl('+str(h)+',50%'+',50%)' for h in np.linspace(0, 360, dff.grade.nunique())]\n",
    "i=0\n",
    "for g in dff.grade.unique():\n",
    "    data = dff[dff['grade']==g]\n",
    "    trace0= go.Scatter(\n",
    "        x= data['sqft_living'],\n",
    "        y= data['price'],\n",
    "        mode= 'markers',\n",
    "        marker= {'size': 14,\n",
    "                    'color': c[i],\n",
    "                    'opacity': 0.3\n",
    "                },\n",
    "        name=g,\n",
    "        text= 'Mean price: '+str(data['price'].mean())) # The hover text goes here... \n",
    "    i = i+1\n",
    "    traces.append(trace0);\n",
    "\n",
    "# Plot and embed in ipython notebook!\n",
    "fig = go.Figure(data=traces)\n",
    "iplot(fig)"
   ]
  },
  {
   "cell_type": "code",
   "execution_count": null,
   "metadata": {},
   "outputs": [],
   "source": []
  },
  {
   "cell_type": "code",
   "execution_count": null,
   "metadata": {
    "colab": {},
    "colab_type": "code",
    "id": "KccQsWGCWxnM"
   },
   "outputs": [],
   "source": [
    "def plot_map(house_data, wrt, of, labelcol = None, bins=None,scale = 500):\n",
    "    import plotly.plotly as py\n",
    "    import plotly.graph_objs as go\n",
    "    import seaborn as sns\n",
    "\n",
    "    import pandas as pd\n",
    "    from plotly.offline import download_plotlyjs, init_notebook_mode, plot, iplot\n",
    "\n",
    "    init_notebook_mode(connected=True)\n",
    "    \n",
    "\n",
    "    objects = []\n",
    "    if bins is None:\n",
    "        objects = house_data[wrt].dropna().unique()\n",
    "    else:\n",
    "        res = np.histogram(house_data[wrt], bins=bins)\n",
    "        for i in range(0,len(res[1])-1):\n",
    "            objects.append(res[1][i:i+2])\n",
    "    if labelcol is None:\n",
    "        labelcol = wrt\n",
    "    \n",
    "    colors = np.arange(len(objects))\n",
    "    houses = []\n",
    "\n",
    "    \n",
    "    \n",
    "    for i in range(0, len(objects)):\n",
    "        if bins is None:\n",
    "            df_sub = house_data[house_data[wrt] == objects[i]]\n",
    "            name =labelcol+' '+str(objects[i])\n",
    "        else:\n",
    "            name = wrt+' ('+str(objects[i][0])+' - '+str(objects[i][1])+')'\n",
    "            df_sub = house_data[house_data[wrt].between(objects[i][0], objects[i][1])]\n",
    "            \n",
    "        house = go.Scattergeo(\n",
    "            locationmode = 'ISO-3',\n",
    "            lon = df_sub['long'],\n",
    "            lat = df_sub['lat'],\n",
    "            text = df_sub[labelcol],\n",
    "            marker = go.scattergeo.Marker(\n",
    "                size = df_sub[of]/scale,\n",
    "                color = colors[i],\n",
    "                line = go.scattergeo.marker.Line(\n",
    "                    width=0.5, color='rgb(40,40,40)'\n",
    "                ),\n",
    "                sizemode = 'area'\n",
    "            ),\n",
    "            name = name\n",
    "        )\n",
    "        houses.append(house)\n",
    "        \n",
    "\n",
    "    layout = go.Layout(\n",
    "            title = go.layout.Title(\n",
    "                text = 'House prices'\n",
    "            ),\n",
    "            showlegend = True,\n",
    "            geo = go.layout.Geo(\n",
    "                scope = 'usa',\n",
    "                projection = go.layout.geo.Projection(\n",
    "                    type='albers usa'\n",
    "                ),\n",
    "                showland = True,\n",
    "                showlakes = True,\n",
    "                showrivers = True,\n",
    "                landcolor = 'rgb(217, 217, 217)',\n",
    "                subunitcolor=\"rgb(255, 255, 255)\",\n",
    "                countrycolor=\"rgb(40, 60, 190)\",\n",
    "            )\n",
    "        )\n",
    "\n",
    "    fig = go.Figure(data=houses, layout=layout)\n",
    "    iplot(fig)"
   ]
  },
  {
   "cell_type": "code",
   "execution_count": null,
   "metadata": {},
   "outputs": [],
   "source": [
    "plot_map(dff,'condition', 'price',scale=10000)"
   ]
  },
  {
   "cell_type": "raw",
   "metadata": {},
   "source": []
  },
  {
   "cell_type": "code",
   "execution_count": null,
   "metadata": {},
   "outputs": [],
   "source": []
  },
  {
   "cell_type": "code",
   "execution_count": null,
   "metadata": {},
   "outputs": [],
   "source": []
  },
  {
   "cell_type": "code",
   "execution_count": null,
   "metadata": {},
   "outputs": [],
   "source": []
  }
 ],
 "metadata": {
  "colab": {
   "collapsed_sections": [],
   "name": "Copy of introduction.ipynb",
   "provenance": [],
   "version": "0.3.2"
  },
  "kernelspec": {
   "display_name": "Python 3",
   "language": "python",
   "name": "python3"
  },
  "language_info": {
   "codemirror_mode": {
    "name": "ipython",
    "version": 3
   },
   "file_extension": ".py",
   "mimetype": "text/x-python",
   "name": "python",
   "nbconvert_exporter": "python",
   "pygments_lexer": "ipython3",
   "version": "3.6.7"
  }
 },
 "nbformat": 4,
 "nbformat_minor": 1
}
